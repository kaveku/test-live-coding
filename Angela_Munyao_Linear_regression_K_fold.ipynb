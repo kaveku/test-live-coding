{
  "nbformat": 4,
  "nbformat_minor": 0,
  "metadata": {
    "colab": {
      "name": "Angela Munyao_Linear_regression_K_fold.ipynb",
      "provenance": [],
      "authorship_tag": "ABX9TyOO7xWBgfUYziKsMyMYh+9T",
      "include_colab_link": true
    },
    "kernelspec": {
      "name": "python3",
      "display_name": "Python 3"
    },
    "language_info": {
      "name": "python"
    }
  },
  "cells": [
    {
      "cell_type": "markdown",
      "metadata": {
        "id": "view-in-github",
        "colab_type": "text"
      },
      "source": [
        "<a href=\"https://colab.research.google.com/github/kaveku/test-live-coding/blob/master/Angela_Munyao_Linear_regression_K_fold.ipynb\" target=\"_parent\"><img src=\"https://colab.research.google.com/assets/colab-badge.svg\" alt=\"Open In Colab\"/></a>"
      ]
    },
    {
      "cell_type": "code",
      "execution_count": 73,
      "metadata": {
        "id": "psBhDh8vX0UR"
      },
      "outputs": [],
      "source": [
        "import pandas as pd\n",
        "import numpy as np\n",
        "import matplotlib.pyplot as plt"
      ]
    },
    {
      "cell_type": "code",
      "source": [
        "class Dataset:\n",
        "  def __init__(self, path, test_size=0.85):\n",
        "    self.test_size = test_size\n",
        "    if path==None:\n",
        "        self.train_inputs = []\n",
        "        self.test_inputs = []\n",
        "        self.train_targets = []\n",
        "        self.test_targets = []\n",
        "    else:\n",
        "        self.initialize(path)\n",
        "    \n",
        "  def initialize(self, path):\n",
        "    data = pd.read_csv(path,  encoding='latin-1')\n",
        "    #Fill all the NAN values with the mean\n",
        "    for col in data.columns:\n",
        "      if data[col].isna().sum()!=0:\n",
        "        data[col][data[col].isna()] = data[col].mean()\n",
        "        \n",
        "    data = data.drop(['Geography', 'binnedInc'], axis=1)\n",
        "    \n",
        "    target = data[\"TARGET_deathRate\"].values\n",
        "    inputs = data.drop(\"TARGET_deathRate\", axis=1)\n",
        "\n",
        "\n",
        "    #here we add more features\n",
        "    for col in inputs.columns:\n",
        "      for i in range(2,10):\n",
        "        new_col = f'{col}_{i}' \n",
        "        inputs[new_col] =  inputs[col]**i\n",
        "\n",
        "    inputs = inputs.values\n",
        "    inputs = inputs/inputs.max(axis=0)\n",
        "    self.target = target\n",
        "    self.inputs = inputs\n",
        "    \n",
        "    #Shuffle before splitting the data\n",
        "    indices = np.arange(len(self.target))\n",
        "    np.random.shuffle(indices)\n",
        "    test_num_points = int(self.test_size * len(indices))\n",
        "    test_indices = indices[:test_num_points]\n",
        "    train_indices = indices[test_num_points:]\n",
        "\n",
        "    self.train_inputs = self.inputs[train_indices]\n",
        "    self.test_inputs = self.inputs[test_indices]\n",
        "    self.train_targets = self.target[train_indices]\n",
        "    self.test_targets = self.target[test_indices]"
      ],
      "metadata": {
        "id": "cDTVz11pYGHG"
      },
      "execution_count": 74,
      "outputs": []
    },
    {
      "cell_type": "code",
      "source": [
        "dataset = Dataset(\"cancer_reg.csv\") #\"cancer-mortality-rate.csv"
      ],
      "metadata": {
        "colab": {
          "base_uri": "https://localhost:8080/"
        },
        "id": "ZJPh93iGYSEk",
        "outputId": "37b9a2f3-c365-4377-acbb-4ad45698fc34"
      },
      "execution_count": 75,
      "outputs": [
        {
          "output_type": "stream",
          "name": "stderr",
          "text": [
            "/usr/local/lib/python3.7/dist-packages/ipykernel_launcher.py:17: SettingWithCopyWarning: \n",
            "A value is trying to be set on a copy of a slice from a DataFrame\n",
            "\n",
            "See the caveats in the documentation: https://pandas.pydata.org/pandas-docs/stable/user_guide/indexing.html#returning-a-view-versus-a-copy\n",
            "/usr/local/lib/python3.7/dist-packages/ipykernel_launcher.py:29: PerformanceWarning: DataFrame is highly fragmented.  This is usually the result of calling `frame.insert` many times, which has poor performance.  Consider joining all columns at once using pd.concat(axis=1) instead.  To get a de-fragmented frame, use `newframe = frame.copy()`\n"
          ]
        }
      ]
    },
    {
      "cell_type": "code",
      "source": [
        "class LinearRegressionModel_KFold:\n",
        "  def __init__(self, epochs=10000):\n",
        "    self.epochs = epochs\n",
        "    #initialize the parameters randomly\n",
        "\n",
        "  def add_one(self, x):\n",
        "    x_new=np.hstack([np.ones((x.shape[0], 1)), x])\n",
        "    return x_new\n",
        "\n",
        "  def predict(self, x, theta):\n",
        "    y_pred=x@theta\n",
        "    return y_pred\n",
        "\n",
        "  def compute_mse_loss(self, x_train, y_train, theta):\n",
        "    mse=(np.sum(((x_train.T@theta)-y_train)**2)/2)\n",
        "\n",
        "    return mse\n",
        "\n",
        "  def plot_loss_and_params(self, train_losses, test_losses):\n",
        "\n",
        "    fig, (ax1) = plt.subplots(1, 1, figsize=(20,4))\n",
        "\n",
        "    ax1.plot(train_losses[10:], label=\"train-loss\")\n",
        "    ax1.plot(test_losses[10:], label=\"test-loss\")\n",
        "    ax1.set_title('loss')\n",
        "\n",
        "    plt.show()\n",
        "\n",
        "  def train(self, x_train, y_train, x_test, y_test, batch_size, lr, folds):\n",
        "    train_losses = []\n",
        "    test_losses = []\n",
        "    n=x_train.shape[0]\n",
        "    d=x_train.shape[1]\n",
        "\n",
        "    batch_num=int(n/batch_size)\n",
        "\n",
        "    theta=np.zeros((d, 1))\n",
        "\n",
        "    n=len(x_train)\n",
        "    fold_size=int(n/folds)\n",
        "    fold_mse_train_list=[]\n",
        "    fold_mse_test_list=[]\n",
        "\n",
        "    for f in range (folds):\n",
        "      x_test_new=x_train[f*fold_size:f*fold_size+fold_size]\n",
        "      y_test_new=y_train[f*fold_size:f*fold_size+fold_size]\n",
        "      x_train_new=np.delete(x_train, np.s_[f*fold_size:f*fold_size+fold_size], axis=0)\n",
        "      y_train_new=np.delete(x_train, np.s_[f*fold_size:f*fold_size+fold_size], axis=0)\n",
        "\n",
        "      n_train=len(x_train_new)\n",
        "      n_test=len(x_test_new)\n",
        "\n",
        "      for i in range(self.epochs):\n",
        "        #print(x_train.shape, y_train.shape)\n",
        "        a=np.c_[x_train_new,y_train_new]    \n",
        "        np.random.shuffle(a)\n",
        "\n",
        "        x_train_shuffled=a[:,:-1]\n",
        "        y_train_shuffled= a[:,-1]\n",
        "\n",
        "        for j in range(batch_num):\n",
        "          x_train_new_b=x_train_shuffled[j*batch_size:j*batch_size+batch_size]       \n",
        "          y_train_new_b=y_train_shuffled[j*batch_size:j*batch_size+batch_size]\n",
        "          y_train_new_b=y_train_new_b.reshape(-1,1)\n",
        "          x_train_new_b=x_train_new_b.T\n",
        "\n",
        "          mse_train=self.compute_mse_loss(x_train_new_b, y_train_new_b, theta)\n",
        "          #print(theta)\n",
        "          mse_test=self.compute_mse_loss(x_test_new, y_test_new, theta)\n",
        "\n",
        "          a= x_train_new_b@theta\n",
        "          b=a-y_train_new_b\n",
        "          grad=x_train_new_b.T@b\n",
        "          theta_new= (theta-(1/batch_num)*lr*grad) \n",
        "          \n",
        "          theta=theta_new\n",
        "\n",
        "      fold_mse_train_list.append(mse_train)\n",
        "      fold_mse_test_list.append(self.compute_mse_loss(x_test_new, y_test_new, theta))\n",
        "    print(fold_mse_train_list)\n",
        "\n",
        "\n",
        "    plt.figure()\n",
        "    plt.plot(np.arange(self.epochs), fold_mse_train_list, c='blue')\n",
        "    plt.xlabel('Iterations')\n",
        "    plt.ylabel('Cost, ' + r'$J(\\theta)$')\n",
        "\n",
        "    plt.figure()\n",
        "    plt.plot(np.arange(self.epochs), fold_mse_test_list, c='blue')\n",
        "    plt.xlabel('Iterations')\n",
        "    plt.ylabel('Cost, ' + r'$J(\\theta)$')\n"
      ],
      "metadata": {
        "id": "tvN68r6iYZj6"
      },
      "execution_count": 92,
      "outputs": []
    },
    {
      "cell_type": "code",
      "source": [
        ""
      ],
      "metadata": {
        "id": "IhNMxA41mTcG"
      },
      "execution_count": null,
      "outputs": []
    }
  ]
}