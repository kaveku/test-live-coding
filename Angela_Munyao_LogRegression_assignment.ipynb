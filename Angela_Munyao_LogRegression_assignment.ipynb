{
  "nbformat": 4,
  "nbformat_minor": 0,
  "metadata": {
    "colab": {
      "name": "Angela_Munyao_LogRegression.assignment",
      "provenance": [],
      "collapsed_sections": [],
      "authorship_tag": "ABX9TyNZou9V+Q/U+ffY+uVHuq16",
      "include_colab_link": true
    },
    "kernelspec": {
      "name": "python3",
      "display_name": "Python 3"
    },
    "language_info": {
      "name": "python"
    }
  },
  "cells": [
    {
      "cell_type": "markdown",
      "metadata": {
        "id": "view-in-github",
        "colab_type": "text"
      },
      "source": [
        "<a href=\"https://colab.research.google.com/github/kaveku/test-live-coding/blob/master/Angela_Munyao_LogRegression_assignment.ipynb\" target=\"_parent\"><img src=\"https://colab.research.google.com/assets/colab-badge.svg\" alt=\"Open In Colab\"/></a>"
      ]
    },
    {
      "cell_type": "code",
      "execution_count": 19,
      "metadata": {
        "id": "m3YPEFaORTk2"
      },
      "outputs": [],
      "source": [
        "import pandas as pd\n",
        "import numpy as np\n",
        "import matplotlib.pyplot as plt"
      ]
    },
    {
      "cell_type": "code",
      "source": [
        "data=pd.read_csv(\"/content/diabetes.csv\")"
      ],
      "metadata": {
        "id": "3_kP-AsroatR"
      },
      "execution_count": 20,
      "outputs": []
    },
    {
      "cell_type": "code",
      "source": [
        "def feature_standard(data ):\n",
        "  ######## write your code #########\n",
        "  mu = np.mean(data , axis=0)\n",
        "  std=np.std(data , axis = 0)\n",
        "  data_Scaled = (data - mu)/std\n",
        "  return data_Scaled"
      ],
      "metadata": {
        "id": "plDyl1HZop-X"
      },
      "execution_count": 21,
      "outputs": []
    },
    {
      "cell_type": "code",
      "source": [
        "data.iloc[:,:-1] = feature_standard(data.iloc[: ,:-1])\n",
        "data.head()"
      ],
      "metadata": {
        "colab": {
          "base_uri": "https://localhost:8080/",
          "height": 206
        },
        "id": "Z6O9kQDlo6ac",
        "outputId": "a90ad62a-4d08-4ffd-fff2-c7aa71af8eb0"
      },
      "execution_count": 22,
      "outputs": [
        {
          "output_type": "execute_result",
          "data": {
            "text/html": [
              "\n",
              "  <div id=\"df-f94c0080-16a8-4b8e-bff8-3021bef15875\">\n",
              "    <div class=\"colab-df-container\">\n",
              "      <div>\n",
              "<style scoped>\n",
              "    .dataframe tbody tr th:only-of-type {\n",
              "        vertical-align: middle;\n",
              "    }\n",
              "\n",
              "    .dataframe tbody tr th {\n",
              "        vertical-align: top;\n",
              "    }\n",
              "\n",
              "    .dataframe thead th {\n",
              "        text-align: right;\n",
              "    }\n",
              "</style>\n",
              "<table border=\"1\" class=\"dataframe\">\n",
              "  <thead>\n",
              "    <tr style=\"text-align: right;\">\n",
              "      <th></th>\n",
              "      <th>Pregnancies</th>\n",
              "      <th>Glucose</th>\n",
              "      <th>BloodPressure</th>\n",
              "      <th>SkinThickness</th>\n",
              "      <th>Insulin</th>\n",
              "      <th>BMI</th>\n",
              "      <th>DiabetesPedigreeFunction</th>\n",
              "      <th>Age</th>\n",
              "      <th>Outcome</th>\n",
              "    </tr>\n",
              "  </thead>\n",
              "  <tbody>\n",
              "    <tr>\n",
              "      <th>0</th>\n",
              "      <td>0.639947</td>\n",
              "      <td>0.848324</td>\n",
              "      <td>0.149641</td>\n",
              "      <td>0.907270</td>\n",
              "      <td>-0.692891</td>\n",
              "      <td>0.204013</td>\n",
              "      <td>0.468492</td>\n",
              "      <td>1.425995</td>\n",
              "      <td>1</td>\n",
              "    </tr>\n",
              "    <tr>\n",
              "      <th>1</th>\n",
              "      <td>-0.844885</td>\n",
              "      <td>-1.123396</td>\n",
              "      <td>-0.160546</td>\n",
              "      <td>0.530902</td>\n",
              "      <td>-0.692891</td>\n",
              "      <td>-0.684422</td>\n",
              "      <td>-0.365061</td>\n",
              "      <td>-0.190672</td>\n",
              "      <td>0</td>\n",
              "    </tr>\n",
              "    <tr>\n",
              "      <th>2</th>\n",
              "      <td>1.233880</td>\n",
              "      <td>1.943724</td>\n",
              "      <td>-0.263941</td>\n",
              "      <td>-1.288212</td>\n",
              "      <td>-0.692891</td>\n",
              "      <td>-1.103255</td>\n",
              "      <td>0.604397</td>\n",
              "      <td>-0.105584</td>\n",
              "      <td>1</td>\n",
              "    </tr>\n",
              "    <tr>\n",
              "      <th>3</th>\n",
              "      <td>-0.844885</td>\n",
              "      <td>-0.998208</td>\n",
              "      <td>-0.160546</td>\n",
              "      <td>0.154533</td>\n",
              "      <td>0.123302</td>\n",
              "      <td>-0.494043</td>\n",
              "      <td>-0.920763</td>\n",
              "      <td>-1.041549</td>\n",
              "      <td>0</td>\n",
              "    </tr>\n",
              "    <tr>\n",
              "      <th>4</th>\n",
              "      <td>-1.141852</td>\n",
              "      <td>0.504055</td>\n",
              "      <td>-1.504687</td>\n",
              "      <td>0.907270</td>\n",
              "      <td>0.765836</td>\n",
              "      <td>1.409746</td>\n",
              "      <td>5.484909</td>\n",
              "      <td>-0.020496</td>\n",
              "      <td>1</td>\n",
              "    </tr>\n",
              "  </tbody>\n",
              "</table>\n",
              "</div>\n",
              "      <button class=\"colab-df-convert\" onclick=\"convertToInteractive('df-f94c0080-16a8-4b8e-bff8-3021bef15875')\"\n",
              "              title=\"Convert this dataframe to an interactive table.\"\n",
              "              style=\"display:none;\">\n",
              "        \n",
              "  <svg xmlns=\"http://www.w3.org/2000/svg\" height=\"24px\"viewBox=\"0 0 24 24\"\n",
              "       width=\"24px\">\n",
              "    <path d=\"M0 0h24v24H0V0z\" fill=\"none\"/>\n",
              "    <path d=\"M18.56 5.44l.94 2.06.94-2.06 2.06-.94-2.06-.94-.94-2.06-.94 2.06-2.06.94zm-11 1L8.5 8.5l.94-2.06 2.06-.94-2.06-.94L8.5 2.5l-.94 2.06-2.06.94zm10 10l.94 2.06.94-2.06 2.06-.94-2.06-.94-.94-2.06-.94 2.06-2.06.94z\"/><path d=\"M17.41 7.96l-1.37-1.37c-.4-.4-.92-.59-1.43-.59-.52 0-1.04.2-1.43.59L10.3 9.45l-7.72 7.72c-.78.78-.78 2.05 0 2.83L4 21.41c.39.39.9.59 1.41.59.51 0 1.02-.2 1.41-.59l7.78-7.78 2.81-2.81c.8-.78.8-2.07 0-2.86zM5.41 20L4 18.59l7.72-7.72 1.47 1.35L5.41 20z\"/>\n",
              "  </svg>\n",
              "      </button>\n",
              "      \n",
              "  <style>\n",
              "    .colab-df-container {\n",
              "      display:flex;\n",
              "      flex-wrap:wrap;\n",
              "      gap: 12px;\n",
              "    }\n",
              "\n",
              "    .colab-df-convert {\n",
              "      background-color: #E8F0FE;\n",
              "      border: none;\n",
              "      border-radius: 50%;\n",
              "      cursor: pointer;\n",
              "      display: none;\n",
              "      fill: #1967D2;\n",
              "      height: 32px;\n",
              "      padding: 0 0 0 0;\n",
              "      width: 32px;\n",
              "    }\n",
              "\n",
              "    .colab-df-convert:hover {\n",
              "      background-color: #E2EBFA;\n",
              "      box-shadow: 0px 1px 2px rgba(60, 64, 67, 0.3), 0px 1px 3px 1px rgba(60, 64, 67, 0.15);\n",
              "      fill: #174EA6;\n",
              "    }\n",
              "\n",
              "    [theme=dark] .colab-df-convert {\n",
              "      background-color: #3B4455;\n",
              "      fill: #D2E3FC;\n",
              "    }\n",
              "\n",
              "    [theme=dark] .colab-df-convert:hover {\n",
              "      background-color: #434B5C;\n",
              "      box-shadow: 0px 1px 3px 1px rgba(0, 0, 0, 0.15);\n",
              "      filter: drop-shadow(0px 1px 2px rgba(0, 0, 0, 0.3));\n",
              "      fill: #FFFFFF;\n",
              "    }\n",
              "  </style>\n",
              "\n",
              "      <script>\n",
              "        const buttonEl =\n",
              "          document.querySelector('#df-f94c0080-16a8-4b8e-bff8-3021bef15875 button.colab-df-convert');\n",
              "        buttonEl.style.display =\n",
              "          google.colab.kernel.accessAllowed ? 'block' : 'none';\n",
              "\n",
              "        async function convertToInteractive(key) {\n",
              "          const element = document.querySelector('#df-f94c0080-16a8-4b8e-bff8-3021bef15875');\n",
              "          const dataTable =\n",
              "            await google.colab.kernel.invokeFunction('convertToInteractive',\n",
              "                                                     [key], {});\n",
              "          if (!dataTable) return;\n",
              "\n",
              "          const docLinkHtml = 'Like what you see? Visit the ' +\n",
              "            '<a target=\"_blank\" href=https://colab.research.google.com/notebooks/data_table.ipynb>data table notebook</a>'\n",
              "            + ' to learn more about interactive tables.';\n",
              "          element.innerHTML = '';\n",
              "          dataTable['output_type'] = 'display_data';\n",
              "          await google.colab.output.renderOutput(dataTable, element);\n",
              "          const docLink = document.createElement('div');\n",
              "          docLink.innerHTML = docLinkHtml;\n",
              "          element.appendChild(docLink);\n",
              "        }\n",
              "      </script>\n",
              "    </div>\n",
              "  </div>\n",
              "  "
            ],
            "text/plain": [
              "   Pregnancies   Glucose  BloodPressure  SkinThickness   Insulin       BMI  \\\n",
              "0     0.639947  0.848324       0.149641       0.907270 -0.692891  0.204013   \n",
              "1    -0.844885 -1.123396      -0.160546       0.530902 -0.692891 -0.684422   \n",
              "2     1.233880  1.943724      -0.263941      -1.288212 -0.692891 -1.103255   \n",
              "3    -0.844885 -0.998208      -0.160546       0.154533  0.123302 -0.494043   \n",
              "4    -1.141852  0.504055      -1.504687       0.907270  0.765836  1.409746   \n",
              "\n",
              "   DiabetesPedigreeFunction       Age  Outcome  \n",
              "0                  0.468492  1.425995        1  \n",
              "1                 -0.365061 -0.190672        0  \n",
              "2                  0.604397 -0.105584        1  \n",
              "3                 -0.920763 -1.041549        0  \n",
              "4                  5.484909 -0.020496        1  "
            ]
          },
          "metadata": {},
          "execution_count": 22
        }
      ]
    },
    {
      "cell_type": "code",
      "source": [
        "def split_data(df, train_percent):\n",
        "  np.random.seed(40)\n",
        "  perm=np.random.permutation(df.index)\n",
        "  n=len(df)\n",
        "  train_index=int(train_percent*n)\n",
        "  train=data.iloc[perm[:train_index]]\n",
        "  test=data.iloc[perm[train_index:]]\n",
        "\n",
        "  x_train, y_train, x_test, y_test= train.iloc[:,:-1], train.iloc[:,-1], test.iloc[:,:-1], test.iloc[:,-1]\n",
        "  return x_train, y_train, x_test, y_test"
      ],
      "metadata": {
        "id": "VkUbeOf-wD6y"
      },
      "execution_count": 23,
      "outputs": []
    },
    {
      "cell_type": "code",
      "source": [
        "x_train, y_train, x_test, y_test=split_data(data, 0.8)\n",
        "#print(y_test)\n",
        "#x_train=x_train.T\n",
        "#y_train=y_train.values.reshape(1, x_train.shape[1])\n",
        "#x_test=x_test.T\n",
        "#y_test=y_test.values.reshape(1, x_test.shape[1])\n",
        "print((y_train).shape)\n",
        "print(y_train.shape, x_train.shape)\n"
      ],
      "metadata": {
        "id": "1TO2cEx9A5Hi",
        "colab": {
          "base_uri": "https://localhost:8080/"
        },
        "outputId": "c70a5042-9993-44e6-ef75-ad9f3e5b922f"
      },
      "execution_count": 24,
      "outputs": [
        {
          "output_type": "stream",
          "name": "stdout",
          "text": [
            "(614,)\n",
            "(614,) (614, 8)\n"
          ]
        }
      ]
    },
    {
      "cell_type": "code",
      "source": [
        "x_train.head()"
      ],
      "metadata": {
        "colab": {
          "base_uri": "https://localhost:8080/",
          "height": 206
        },
        "id": "FXA6MbN6DKEO",
        "outputId": "b835080f-2240-48c2-e298-85cab8dc3843"
      },
      "execution_count": 25,
      "outputs": [
        {
          "output_type": "execute_result",
          "data": {
            "text/html": [
              "\n",
              "  <div id=\"df-9184389a-c326-470e-bfae-e1dbce548802\">\n",
              "    <div class=\"colab-df-container\">\n",
              "      <div>\n",
              "<style scoped>\n",
              "    .dataframe tbody tr th:only-of-type {\n",
              "        vertical-align: middle;\n",
              "    }\n",
              "\n",
              "    .dataframe tbody tr th {\n",
              "        vertical-align: top;\n",
              "    }\n",
              "\n",
              "    .dataframe thead th {\n",
              "        text-align: right;\n",
              "    }\n",
              "</style>\n",
              "<table border=\"1\" class=\"dataframe\">\n",
              "  <thead>\n",
              "    <tr style=\"text-align: right;\">\n",
              "      <th></th>\n",
              "      <th>Pregnancies</th>\n",
              "      <th>Glucose</th>\n",
              "      <th>BloodPressure</th>\n",
              "      <th>SkinThickness</th>\n",
              "      <th>Insulin</th>\n",
              "      <th>BMI</th>\n",
              "      <th>DiabetesPedigreeFunction</th>\n",
              "      <th>Age</th>\n",
              "    </tr>\n",
              "  </thead>\n",
              "  <tbody>\n",
              "    <tr>\n",
              "      <th>370</th>\n",
              "      <td>-0.250952</td>\n",
              "      <td>1.630752</td>\n",
              "      <td>0.666618</td>\n",
              "      <td>1.722735</td>\n",
              "      <td>3.344656</td>\n",
              "      <td>0.813225</td>\n",
              "      <td>5.028871</td>\n",
              "      <td>-0.701198</td>\n",
              "    </tr>\n",
              "    <tr>\n",
              "      <th>388</th>\n",
              "      <td>0.342981</td>\n",
              "      <td>0.723135</td>\n",
              "      <td>0.666618</td>\n",
              "      <td>0.342717</td>\n",
              "      <td>1.781735</td>\n",
              "      <td>0.000942</td>\n",
              "      <td>-0.060029</td>\n",
              "      <td>2.106697</td>\n",
              "    </tr>\n",
              "    <tr>\n",
              "      <th>611</th>\n",
              "      <td>-0.250952</td>\n",
              "      <td>1.662050</td>\n",
              "      <td>-0.574128</td>\n",
              "      <td>0.091805</td>\n",
              "      <td>0.991591</td>\n",
              "      <td>0.115169</td>\n",
              "      <td>0.365808</td>\n",
              "      <td>0.234767</td>\n",
              "    </tr>\n",
              "    <tr>\n",
              "      <th>550</th>\n",
              "      <td>-0.844885</td>\n",
              "      <td>-0.153185</td>\n",
              "      <td>0.046245</td>\n",
              "      <td>0.468173</td>\n",
              "      <td>-0.692891</td>\n",
              "      <td>-0.582887</td>\n",
              "      <td>-0.809018</td>\n",
              "      <td>-1.041549</td>\n",
              "    </tr>\n",
              "    <tr>\n",
              "      <th>232</th>\n",
              "      <td>-0.844885</td>\n",
              "      <td>-1.311179</td>\n",
              "      <td>0.563223</td>\n",
              "      <td>0.279989</td>\n",
              "      <td>-0.371623</td>\n",
              "      <td>-0.836725</td>\n",
              "      <td>0.335607</td>\n",
              "      <td>-0.956462</td>\n",
              "    </tr>\n",
              "  </tbody>\n",
              "</table>\n",
              "</div>\n",
              "      <button class=\"colab-df-convert\" onclick=\"convertToInteractive('df-9184389a-c326-470e-bfae-e1dbce548802')\"\n",
              "              title=\"Convert this dataframe to an interactive table.\"\n",
              "              style=\"display:none;\">\n",
              "        \n",
              "  <svg xmlns=\"http://www.w3.org/2000/svg\" height=\"24px\"viewBox=\"0 0 24 24\"\n",
              "       width=\"24px\">\n",
              "    <path d=\"M0 0h24v24H0V0z\" fill=\"none\"/>\n",
              "    <path d=\"M18.56 5.44l.94 2.06.94-2.06 2.06-.94-2.06-.94-.94-2.06-.94 2.06-2.06.94zm-11 1L8.5 8.5l.94-2.06 2.06-.94-2.06-.94L8.5 2.5l-.94 2.06-2.06.94zm10 10l.94 2.06.94-2.06 2.06-.94-2.06-.94-.94-2.06-.94 2.06-2.06.94z\"/><path d=\"M17.41 7.96l-1.37-1.37c-.4-.4-.92-.59-1.43-.59-.52 0-1.04.2-1.43.59L10.3 9.45l-7.72 7.72c-.78.78-.78 2.05 0 2.83L4 21.41c.39.39.9.59 1.41.59.51 0 1.02-.2 1.41-.59l7.78-7.78 2.81-2.81c.8-.78.8-2.07 0-2.86zM5.41 20L4 18.59l7.72-7.72 1.47 1.35L5.41 20z\"/>\n",
              "  </svg>\n",
              "      </button>\n",
              "      \n",
              "  <style>\n",
              "    .colab-df-container {\n",
              "      display:flex;\n",
              "      flex-wrap:wrap;\n",
              "      gap: 12px;\n",
              "    }\n",
              "\n",
              "    .colab-df-convert {\n",
              "      background-color: #E8F0FE;\n",
              "      border: none;\n",
              "      border-radius: 50%;\n",
              "      cursor: pointer;\n",
              "      display: none;\n",
              "      fill: #1967D2;\n",
              "      height: 32px;\n",
              "      padding: 0 0 0 0;\n",
              "      width: 32px;\n",
              "    }\n",
              "\n",
              "    .colab-df-convert:hover {\n",
              "      background-color: #E2EBFA;\n",
              "      box-shadow: 0px 1px 2px rgba(60, 64, 67, 0.3), 0px 1px 3px 1px rgba(60, 64, 67, 0.15);\n",
              "      fill: #174EA6;\n",
              "    }\n",
              "\n",
              "    [theme=dark] .colab-df-convert {\n",
              "      background-color: #3B4455;\n",
              "      fill: #D2E3FC;\n",
              "    }\n",
              "\n",
              "    [theme=dark] .colab-df-convert:hover {\n",
              "      background-color: #434B5C;\n",
              "      box-shadow: 0px 1px 3px 1px rgba(0, 0, 0, 0.15);\n",
              "      filter: drop-shadow(0px 1px 2px rgba(0, 0, 0, 0.3));\n",
              "      fill: #FFFFFF;\n",
              "    }\n",
              "  </style>\n",
              "\n",
              "      <script>\n",
              "        const buttonEl =\n",
              "          document.querySelector('#df-9184389a-c326-470e-bfae-e1dbce548802 button.colab-df-convert');\n",
              "        buttonEl.style.display =\n",
              "          google.colab.kernel.accessAllowed ? 'block' : 'none';\n",
              "\n",
              "        async function convertToInteractive(key) {\n",
              "          const element = document.querySelector('#df-9184389a-c326-470e-bfae-e1dbce548802');\n",
              "          const dataTable =\n",
              "            await google.colab.kernel.invokeFunction('convertToInteractive',\n",
              "                                                     [key], {});\n",
              "          if (!dataTable) return;\n",
              "\n",
              "          const docLinkHtml = 'Like what you see? Visit the ' +\n",
              "            '<a target=\"_blank\" href=https://colab.research.google.com/notebooks/data_table.ipynb>data table notebook</a>'\n",
              "            + ' to learn more about interactive tables.';\n",
              "          element.innerHTML = '';\n",
              "          dataTable['output_type'] = 'display_data';\n",
              "          await google.colab.output.renderOutput(dataTable, element);\n",
              "          const docLink = document.createElement('div');\n",
              "          docLink.innerHTML = docLinkHtml;\n",
              "          element.appendChild(docLink);\n",
              "        }\n",
              "      </script>\n",
              "    </div>\n",
              "  </div>\n",
              "  "
            ],
            "text/plain": [
              "     Pregnancies   Glucose  BloodPressure  SkinThickness   Insulin       BMI  \\\n",
              "370    -0.250952  1.630752       0.666618       1.722735  3.344656  0.813225   \n",
              "388     0.342981  0.723135       0.666618       0.342717  1.781735  0.000942   \n",
              "611    -0.250952  1.662050      -0.574128       0.091805  0.991591  0.115169   \n",
              "550    -0.844885 -0.153185       0.046245       0.468173 -0.692891 -0.582887   \n",
              "232    -0.844885 -1.311179       0.563223       0.279989 -0.371623 -0.836725   \n",
              "\n",
              "     DiabetesPedigreeFunction       Age  \n",
              "370                  5.028871 -0.701198  \n",
              "388                 -0.060029  2.106697  \n",
              "611                  0.365808  0.234767  \n",
              "550                 -0.809018 -1.041549  \n",
              "232                  0.335607 -0.956462  "
            ]
          },
          "metadata": {},
          "execution_count": 25
        }
      ]
    },
    {
      "cell_type": "code",
      "source": [
        "def sigmoid(x):\n",
        "  return 1/(1+ np.exp(-x))"
      ],
      "metadata": {
        "id": "w5qY6IugZNh2"
      },
      "execution_count": 26,
      "outputs": []
    },
    {
      "cell_type": "code",
      "source": [
        "#x_train = np.hstack([np.ones((x_train.shape[0], 1)),x_train])\n",
        "#y_train = np.hstack([np.ones((y_train.shape[0], 1)),y_train])\n",
        "#print(y_train.shape, y_train.values)\n",
        "print(y_train.shape)"
      ],
      "metadata": {
        "colab": {
          "base_uri": "https://localhost:8080/"
        },
        "id": "CMbb7iWIAK2b",
        "outputId": "02c91bbd-110c-4df5-f45b-e1a43bea7b34"
      },
      "execution_count": 27,
      "outputs": [
        {
          "output_type": "stream",
          "name": "stdout",
          "text": [
            "(614,)\n"
          ]
        }
      ]
    },
    {
      "cell_type": "code",
      "source": [
        "def model(x_train, y_train, lr, iter, batch_size):\n",
        "  n=x_train.shape[0]\n",
        "  batch_num=int(n/batch_size)\n",
        "  left_last_batch=n%batch_size\n",
        "  d=x_train.shape[1]\n",
        "  #x_train = np.hstack([np.ones((x_train.shape[0], 1)), x_train.shape])\n",
        "\n",
        "  W=np.zeros((d, 1))\n",
        "  B= 0\n",
        "  cost_list=[]\n",
        "  cost_1=[]\n",
        "  cost_2=[]\n",
        "  cost_2_3=[]\n",
        "  #y_train = y_train.reshape(-1, 1)\n",
        "  #print(y_train.shape)\n",
        "  for i in range(iter):\n",
        "    #z=np.dot(x_train, W) +B\n",
        "    a=np.c_[x_train,y_train]    \n",
        "    np.random.shuffle(a)\n",
        "    #print(x_train.shape, y_train.shape)\n",
        "    x_train_shuffled =a[:,:-1]\n",
        "    y_train_shuffled= a[:,-1]\n",
        "    #print(x_train.shape, y_train.shape)\n",
        "      \n",
        "    for j in range(batch_num):\n",
        "      x_train_new=x_train_shuffled[j*batch_size:j*batch_size+batch_size]\n",
        "      y_train_new=y_train_shuffled[j*batch_size:j*batch_size+batch_size]\n",
        "\n",
        "      z=np.dot(x_train_new,W)\n",
        "      y_pred=sigmoid(z)\n",
        "      #print(y_train.dtype)\n",
        "      #print(x_train_new.shape, y_train_new.shape)\n",
        "      #y_train*np.log(y_pred)\n",
        "      cost=-(1/n)*np.sum(y_train_new*np.log(y_pred)+(1-y_train_new)*np.log(1-y_pred))\n",
        "      dW=-(1/n)*np.dot(x_train_new.T, y_train_new - y_pred)\n",
        "      #dW = -x_train.T @ (y_train - y_pred)\n",
        "      \n",
        "      #dB=(1/n)*np.sum(y_train-y_pred)\n",
        "      #print(dW)\n",
        "      W = W -lr*dW\n",
        "      #print(dW.shape, W.shape)\n",
        "    if (i % 100 == 0):\n",
        "      print(f\"The cost at iteration {i}  = {cost}\")\n",
        "    cost_list.append(cost)\n",
        "\n",
        "  plt.figure()\n",
        "  plt.plot(np.arange(iter), cost_list, c='blue')\n",
        "  plt.xlabel('Iterations')\n",
        "  plt.ylabel('Cost, ' + r'$J(\\theta)$')\n",
        "  #print(cost_list)\n",
        "\n",
        "    "
      ],
      "metadata": {
        "id": "lv3FkBYkGwt8"
      },
      "execution_count": 28,
      "outputs": []
    },
    {
      "cell_type": "code",
      "source": [
        "model(x_train, y_train, 0.5, 200,10)"
      ],
      "metadata": {
        "id": "szpNWE56VClH",
        "colab": {
          "base_uri": "https://localhost:8080/",
          "height": 314
        },
        "outputId": "a11aa3ad-aae3-410a-ecb7-cf7866fbe00a"
      },
      "execution_count": 33,
      "outputs": [
        {
          "output_type": "stream",
          "name": "stdout",
          "text": [
            "The cost at iteration 0  = 0.1126813516353854\n",
            "The cost at iteration 100  = 0.11239082997254961\n"
          ]
        },
        {
          "output_type": "display_data",
          "data": {
            "image/png": "[encoded data removed]",
            "text/plain": [
              "<Figure size 432x288 with 1 Axes>"
            ]
          },
          "metadata": {
            "needs_background": "light"
          }
        }
      ]
    },
    {
      "cell_type": "code",
      "source": [
        "print(x_train.shape, y_train.shape)"
      ],
      "metadata": {
        "colab": {
          "base_uri": "https://localhost:8080/"
        },
        "id": "vBGDgtUmexDu",
        "outputId": "ff2bd854-20fc-4cd6-ba16-30e39d231da4"
      },
      "execution_count": 155,
      "outputs": [
        {
          "output_type": "stream",
          "name": "stdout",
          "text": [
            "(614, 8) (614,)\n"
          ]
        }
      ]
    },
    {
      "cell_type": "code",
      "source": [
        "def model_L1_reg(x_train, y_train, lr, iter, batch_size, lambda_val):\n",
        "  n=x_train.shape[0]\n",
        "  batch_num=int(n/batch_size)\n",
        "  left_last_batch=n%batch_size\n",
        "  d=x_train.shape[1]\n",
        "  #x_train = np.hstack([np.ones((x_train.shape[0], 1)), x_train.shape])\n",
        "\n",
        "  W=np.zeros((d, 1))\n",
        "  B= 0\n",
        "  cost_list=[]\n",
        "  cost_1=[]\n",
        "  cost_2=[]\n",
        "  cost_2_3=[]\n",
        "  #y_train = y_train.reshape(-1, 1)\n",
        "  #print(y_train.shape)\n",
        "  for i in range(iter):\n",
        "    #z=np.dot(x_train, W) +B\n",
        "    a=np.c_[x_train,y_train]    \n",
        "    np.random.shuffle(a)\n",
        "    #print(x_train.shape, y_train.shape)\n",
        "    x_train_shuffled =a[:,:-1]\n",
        "    y_train_shuffled= a[:,-1]\n",
        "    #print(x_train.shape, y_train.shape)\n",
        "      \n",
        "    for j in range(batch_num):\n",
        "      x_train_new=x_train_shuffled[j*batch_size:j*batch_size+batch_size]\n",
        "      y_train_new=y_train_shuffled[j*batch_size:j*batch_size+batch_size]\n",
        "\n",
        "      z=np.dot(x_train_new,W)\n",
        "      y_pred=sigmoid(z)\n",
        "      #print(y_train.dtype)\n",
        "      #print(x_train_new.shape, y_train_new.shape)\n",
        "      #y_train*np.log(y_pred)\n",
        "      cost=-(1/n)*np.sum(y_train_new*np.log(y_pred)+(1-y_train_new)*np.log(1-y_pred))+lambda_val*np.sum(np.power((y_train_new-y_pred),1))\n",
        "      dW=-(1/n)*np.dot(x_train_new.T, y_train_new - y_pred)\n",
        "      #dW = -x_train.T @ (y_train - y_pred)\n",
        "      \n",
        "      #dB=(1/n)*np.sum(y_train-y_pred)\n",
        "      #print(dW)\n",
        "      W = W -lr*dW\n",
        "\n",
        "      #print(dW.shape, W.shape)\n",
        "    if (i % 100 == 0):\n",
        "      print(f\"The cost at iteration {i}  = {cost}\")\n",
        "    cost_list.append(cost)\n",
        "\n",
        "  plt.figure()\n",
        "  plt.plot(np.arange(iter), cost_list, c='blue')\n",
        "  plt.xlabel('Iterations')\n",
        "  plt.ylabel('Cost, ' + r'$J(\\theta)$')\n",
        "  #print(cost_list)\n",
        " "
      ],
      "metadata": {
        "id": "40sXUSu9OSGL"
      },
      "execution_count": 34,
      "outputs": []
    },
    {
      "cell_type": "code",
      "source": [
        "model_L1_reg(x_train, y_train, 0.8, 1000,10, 0.7)"
      ],
      "metadata": {
        "id": "9oLmcDRWiWwY",
        "outputId": "4f689f00-d16b-4563-a78e-2813377bb2da",
        "colab": {
          "base_uri": "https://localhost:8080/",
          "height": 457
        }
      },
      "execution_count": 35,
      "outputs": [
        {
          "output_type": "stream",
          "name": "stdout",
          "text": [
            "The cost at iteration 0  = -20.860887456973316\n",
            "The cost at iteration 100  = -19.89163476733749\n",
            "The cost at iteration 200  = -13.059278412268172\n",
            "The cost at iteration 300  = -7.85375921151217\n",
            "The cost at iteration 400  = -13.337617528980905\n",
            "The cost at iteration 500  = -6.868170268523483\n",
            "The cost at iteration 600  = -20.30721444286377\n",
            "The cost at iteration 700  = -6.954334522557562\n",
            "The cost at iteration 800  = -7.735889561876849\n",
            "The cost at iteration 900  = -28.55847212857516\n"
          ]
        },
        {
          "output_type": "display_data",
          "data": {
            "image/png": "[encoded data removed]",
            "text/plain": [
              "<Figure size 432x288 with 1 Axes>"
            ]
          },
          "metadata": {
            "needs_background": "light"
          }
        }
      ]
    },
    {
      "cell_type": "code",
      "source": [
        "def model_L2_reg(x_train, y_train, lr, iter, batch_size, lambda_val):\n",
        "  n=x_train.shape[0]\n",
        "  batch_num=int(n/batch_size)\n",
        "  left_last_batch=n%batch_size\n",
        "  d=x_train.shape[1]\n",
        "  #x_train = np.hstack([np.ones((x_train.shape[0], 1)), x_train.shape])\n",
        "\n",
        "  W=np.zeros((d, 1))\n",
        "  B= 0\n",
        "  cost_list=[]\n",
        "  cost_1=[]\n",
        "  cost_2=[]\n",
        "  cost_2_3=[]\n",
        "  #y_train = y_train.reshape(-1, 1)\n",
        "  #print(y_train.shape)\n",
        "  for i in range(iter):\n",
        "    #z=np.dot(x_train, W) +B\n",
        "    a=np.c_[x_train,y_train]    \n",
        "    np.random.shuffle(a)\n",
        "    #print(x_train.shape, y_train.shape)\n",
        "    x_train_shuffled =a[:,:-1]\n",
        "    y_train_shuffled= a[:,-1]\n",
        "    #print(x_train.shape, y_train.shape)\n",
        "      \n",
        "    for j in range(batch_num):\n",
        "      x_train_new=x_train_shuffled[j*batch_size:j*batch_size+batch_size]\n",
        "      y_train_new=y_train_shuffled[j*batch_size:j*batch_size+batch_size]\n",
        "\n",
        "      z=np.dot(x_train_new,W)\n",
        "      y_pred=sigmoid(z)\n",
        "      #print(y_train.dtype)\n",
        "      #print(x_train_new.shape, y_train_new.shape)\n",
        "      #y_train*np.log(y_pred)\n",
        "      cost=-(1/n)*np.sum(y_train_new*np.log(y_pred)+(1-y_train_new)*np.log(1-y_pred))+lambda_val*np.sum(np.power((y_train_new-y_pred),2))\n",
        "      dW=-(1/n)*np.dot(x_train_new.T, y_train_new - y_pred)\n",
        "      #dW = -x_train.T @ (y_train - y_pred)\n",
        "      \n",
        "      #dB=(1/n)*np.sum(y_train-y_pred)\n",
        "      #print(dW)\n",
        "      W = W -lr*dW\n",
        "\n",
        "      #print(dW.shape, W.shape)\n",
        "    if (i % 100 == 0):\n",
        "      print(f\"The cost at iteration {i}  = {cost}\")\n",
        "    cost_list.append(cost)\n",
        "    #print(cost_list)\n",
        "\n",
        "  plt.figure()\n",
        "  plt.plot(np.arange(iter), cost_list, c='blue')\n",
        "  plt.xlabel('Iterations')\n",
        "  plt.ylabel('Cost, ' + r'$J(\\theta)$')\n",
        "  #print(cost_list)\n",
        " "
      ],
      "metadata": {
        "id": "ugaLhJBIifV9"
      },
      "execution_count": 36,
      "outputs": []
    },
    {
      "cell_type": "code",
      "source": [
        "model_L2_reg(x_train, y_train, 0.8, 1000,10, 0.7)"
      ],
      "metadata": {
        "id": "HDIwYP03ijO2",
        "outputId": "120f5a7f-52d6-4d97-f6d1-064f918f11ee",
        "colab": {
          "base_uri": "https://localhost:8080/",
          "height": 457
        }
      },
      "execution_count": 37,
      "outputs": [
        {
          "output_type": "stream",
          "name": "stdout",
          "text": [
            "The cost at iteration 0  = 17.68437317968879\n",
            "The cost at iteration 100  = 17.723849662119715\n",
            "The cost at iteration 200  = 17.663164734507806\n",
            "The cost at iteration 300  = 17.697665194700626\n",
            "The cost at iteration 400  = 17.722376277152048\n",
            "The cost at iteration 500  = 18.065281754671787\n",
            "The cost at iteration 600  = 17.136354770110934\n",
            "The cost at iteration 700  = 16.971412384550977\n",
            "The cost at iteration 800  = 17.75124534881367\n",
            "The cost at iteration 900  = 17.682156473933787\n"
          ]
        },
        {
          "output_type": "display_data",
          "data": {
            "image/png": "[encoded data removed]",
            "text/plain": [
              "<Figure size 432x288 with 1 Axes>"
            ]
          },
          "metadata": {
            "needs_background": "light"
          }
        }
      ]
    }
  ]
}